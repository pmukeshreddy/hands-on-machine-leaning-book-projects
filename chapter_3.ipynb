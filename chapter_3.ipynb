{
  "cells": [
    {
      "cell_type": "markdown",
      "metadata": {
        "id": "view-in-github",
        "colab_type": "text"
      },
      "source": [
        "<a href=\"https://colab.research.google.com/github/pmukeshreddy/hands-on-machine-leaning-book-projects/blob/main/chapter_3.ipynb\" target=\"_parent\"><img src=\"https://colab.research.google.com/assets/colab-badge.svg\" alt=\"Open In Colab\"/></a>"
      ]
    },
    {
      "cell_type": "code",
      "execution_count": null,
      "metadata": {
        "id": "Z0nh2_6xp86s",
        "outputId": "c1f8f017-123d-40f5-fe4e-f11258563939"
      },
      "outputs": [
        {
          "data": {
            "text/plain": [
              "dict_keys(['data', 'target', 'frame', 'categories', 'feature_names', 'target_names', 'DESCR', 'details', 'url'])"
            ]
          },
          "execution_count": 2,
          "metadata": {},
          "output_type": "execute_result"
        }
      ],
      "source": [
        "from sklearn.datasets import fetch_openml\n",
        "mnist = fetch_openml('mnist_784',version=1)\n",
        "mnist.keys()\n"
      ]
    },
    {
      "cell_type": "code",
      "execution_count": null,
      "metadata": {
        "id": "UqTvpGBMp86w"
      },
      "outputs": [],
      "source": [
        "X,y = mnist.data,mnist.target\n",
        "X.shape\n",
        "y=y.astype(int)"
      ]
    },
    {
      "cell_type": "code",
      "execution_count": null,
      "metadata": {
        "id": "DrLD8hHKp86w",
        "outputId": "21ce7d4e-f9c6-4bd7-8409-96c89799beb4"
      },
      "outputs": [
        {
          "data": {
            "text/plain": [
              "<matplotlib.image.AxesImage at 0x1fb12f69850>"
            ]
          },
          "execution_count": 4,
          "metadata": {},
          "output_type": "execute_result"
        },
        {
          "data": {
            "image/png": "[encoded data removed]",
            "text/plain": [
              "<Figure size 432x288 with 1 Axes>"
            ]
          },
          "metadata": {
            "needs_background": "light"
          },
          "output_type": "display_data"
        }
      ],
      "source": [
        "import matplotlib.pyplot as pyt\n",
        "import matplotlib as mpt\n",
        "import numpy as np\n",
        "some_digit = X.iloc[0]\n",
        "some_d_q = some_digit.to_numpy()\n",
        "some_re_w = some_d_q.reshape(28,28)\n",
        "pyt.imshow(some_re_w,cmap=mpt.cm.binary,interpolation=\"nearest\")\n",
        "\n"
      ]
    },
    {
      "cell_type": "code",
      "execution_count": null,
      "metadata": {
        "id": "pEbbF0kJp86x"
      },
      "outputs": [],
      "source": [
        "X_train = X[:60000].to_numpy()\n",
        "X_test = X[60000:].to_numpy()\n",
        "y_train = y[:60000]\n",
        "y_test = y[60000:]\n"
      ]
    },
    {
      "cell_type": "code",
      "execution_count": null,
      "metadata": {
        "id": "57Cv5DGbp86x"
      },
      "outputs": [],
      "source": [
        "y_train_5 = (y_train==5)\n",
        "y_test_5 = (y_test==5)\n"
      ]
    },
    {
      "cell_type": "code",
      "execution_count": null,
      "metadata": {
        "id": "BlP7Lov1p86x",
        "outputId": "b29a3c8e-e670-4ff7-f8ac-8777ab56c4a7"
      },
      "outputs": [
        {
          "data": {
            "text/html": [
              "<style>#sk-container-id-1 {color: black;background-color: white;}#sk-container-id-1 pre{padding: 0;}#sk-container-id-1 div.sk-toggleable {background-color: white;}#sk-container-id-1 label.sk-toggleable__label {cursor: pointer;display: block;width: 100%;margin-bottom: 0;padding: 0.3em;box-sizing: border-box;text-align: center;}#sk-container-id-1 label.sk-toggleable__label-arrow:before {content: \"▸\";float: left;margin-right: 0.25em;color: #696969;}#sk-container-id-1 label.sk-toggleable__label-arrow:hover:before {color: black;}#sk-container-id-1 div.sk-estimator:hover label.sk-toggleable__label-arrow:before {color: black;}#sk-container-id-1 div.sk-toggleable__content {max-height: 0;max-width: 0;overflow: hidden;text-align: left;background-color: #f0f8ff;}#sk-container-id-1 div.sk-toggleable__content pre {margin: 0.2em;color: black;border-radius: 0.25em;background-color: #f0f8ff;}#sk-container-id-1 input.sk-toggleable__control:checked~div.sk-toggleable__content {max-height: 200px;max-width: 100%;overflow: auto;}#sk-container-id-1 input.sk-toggleable__control:checked~label.sk-toggleable__label-arrow:before {content: \"▾\";}#sk-container-id-1 div.sk-estimator input.sk-toggleable__control:checked~label.sk-toggleable__label {background-color: #d4ebff;}#sk-container-id-1 div.sk-label input.sk-toggleable__control:checked~label.sk-toggleable__label {background-color: #d4ebff;}#sk-container-id-1 input.sk-hidden--visually {border: 0;clip: rect(1px 1px 1px 1px);clip: rect(1px, 1px, 1px, 1px);height: 1px;margin: -1px;overflow: hidden;padding: 0;position: absolute;width: 1px;}#sk-container-id-1 div.sk-estimator {font-family: monospace;background-color: #f0f8ff;border: 1px dotted black;border-radius: 0.25em;box-sizing: border-box;margin-bottom: 0.5em;}#sk-container-id-1 div.sk-estimator:hover {background-color: #d4ebff;}#sk-container-id-1 div.sk-parallel-item::after {content: \"\";width: 100%;border-bottom: 1px solid gray;flex-grow: 1;}#sk-container-id-1 div.sk-label:hover label.sk-toggleable__label {background-color: #d4ebff;}#sk-container-id-1 div.sk-serial::before {content: \"\";position: absolute;border-left: 1px solid gray;box-sizing: border-box;top: 0;bottom: 0;left: 50%;z-index: 0;}#sk-container-id-1 div.sk-serial {display: flex;flex-direction: column;align-items: center;background-color: white;padding-right: 0.2em;padding-left: 0.2em;position: relative;}#sk-container-id-1 div.sk-item {position: relative;z-index: 1;}#sk-container-id-1 div.sk-parallel {display: flex;align-items: stretch;justify-content: center;background-color: white;position: relative;}#sk-container-id-1 div.sk-item::before, #sk-container-id-1 div.sk-parallel-item::before {content: \"\";position: absolute;border-left: 1px solid gray;box-sizing: border-box;top: 0;bottom: 0;left: 50%;z-index: -1;}#sk-container-id-1 div.sk-parallel-item {display: flex;flex-direction: column;z-index: 1;position: relative;background-color: white;}#sk-container-id-1 div.sk-parallel-item:first-child::after {align-self: flex-end;width: 50%;}#sk-container-id-1 div.sk-parallel-item:last-child::after {align-self: flex-start;width: 50%;}#sk-container-id-1 div.sk-parallel-item:only-child::after {width: 0;}#sk-container-id-1 div.sk-dashed-wrapped {border: 1px dashed gray;margin: 0 0.4em 0.5em 0.4em;box-sizing: border-box;padding-bottom: 0.4em;background-color: white;}#sk-container-id-1 div.sk-label label {font-family: monospace;font-weight: bold;display: inline-block;line-height: 1.2em;}#sk-container-id-1 div.sk-label-container {text-align: center;}#sk-container-id-1 div.sk-container {/* jupyter's `normalize.less` sets `[hidden] { display: none; }` but bootstrap.min.css set `[hidden] { display: none !important; }` so we also need the `!important` here to be able to override the default hidden behavior on the sphinx rendered scikit-learn.org. See: https://github.com/scikit-learn/scikit-learn/issues/21755 */display: inline-block !important;position: relative;}#sk-container-id-1 div.sk-text-repr-fallback {display: none;}</style><div id=\"sk-container-id-1\" class=\"sk-top-container\"><div class=\"sk-text-repr-fallback\"><pre>SGDClassifier(random_state=42)</pre><b>In a Jupyter environment, please rerun this cell to show the HTML representation or trust the notebook. <br />On GitHub, the HTML representation is unable to render, please try loading this page with nbviewer.org.</b></div><div class=\"sk-container\" hidden><div class=\"sk-item\"><div class=\"sk-estimator sk-toggleable\"><input class=\"sk-toggleable__control sk-hidden--visually\" id=\"sk-estimator-id-1\" type=\"checkbox\" checked><label for=\"sk-estimator-id-1\" class=\"sk-toggleable__label sk-toggleable__label-arrow\">SGDClassifier</label><div class=\"sk-toggleable__content\"><pre>SGDClassifier(random_state=42)</pre></div></div></div></div></div>"
            ],
            "text/plain": [
              "SGDClassifier(random_state=42)"
            ]
          },
          "execution_count": 7,
          "metadata": {},
          "output_type": "execute_result"
        }
      ],
      "source": [
        "from sklearn.linear_model import SGDClassifier\n",
        "sgd_clf = SGDClassifier(random_state=42)\n",
        "sgd_clf.fit(X_train,y_train_5)\n"
      ]
    },
    {
      "cell_type": "code",
      "execution_count": null,
      "metadata": {
        "id": "AQ0Fa71ep86y",
        "outputId": "b726d2df-9e13-49a3-f15a-891428dce129"
      },
      "outputs": [
        {
          "name": "stdout",
          "output_type": "stream",
          "text": [
            "[ True]\n",
            "[False]\n"
          ]
        }
      ],
      "source": [
        "some_digit_5 = some_digit\n",
        "some_digit_idk =X.iloc[3].to_numpy()\n",
        "print(sgd_clf.predict([some_digit]))\n",
        "print(sgd_clf.predict([some_digit_idk]))"
      ]
    },
    {
      "cell_type": "code",
      "execution_count": null,
      "metadata": {
        "id": "xiVJ8Vz5p86y",
        "outputId": "e1204447-8050-46a1-fd38-0dc34eb1054d"
      },
      "outputs": [
        {
          "name": "stdout",
          "output_type": "stream",
          "text": [
            "0.9669\n",
            "0.91625\n",
            "0.96785\n"
          ]
        }
      ],
      "source": [
        "from sklearn.model_selection import StratifiedKFold\n",
        "from sklearn.base import clone\n",
        "skfolds = StratifiedKFold(n_splits=3,random_state=42,shuffle=True)\n",
        "for train_index,test_index in skfolds.split(X_train,y_train_5):\n",
        "    clone_cf = clone(sgd_clf)\n",
        "    x_train_folds = X.loc[train_index]\n",
        "    x_test_folds = X.loc[test_index]\n",
        "    y_train_folds = y_train_5.loc[train_index]\n",
        "    y_test_folds = y_train_5.loc[test_index]\n",
        "    \n",
        "    clone_cf.fit(x_train_folds,y_train_folds)\n",
        "    y_pridect = clone_cf.predict(x_test_folds)\n",
        "    n_correct = sum(y_pridect == y_test_folds)\n",
        "    print(n_correct/len(y_pridect))\n",
        "    \n",
        "    \n"
      ]
    },
    {
      "cell_type": "code",
      "execution_count": null,
      "metadata": {
        "id": "XDqdMTsMp86z",
        "outputId": "fd81a7a0-9269-4983-ecc0-360d2d31c6c9"
      },
      "outputs": [
        {
          "data": {
            "text/plain": [
              "array([0.87365, 0.85835, 0.8689 ])"
            ]
          },
          "execution_count": 10,
          "metadata": {},
          "output_type": "execute_result"
        }
      ],
      "source": [
        "from sklearn.model_selection import cross_val_score\n",
        "cross_val_score(sgd_clf,X_train,y_train,cv=3,scoring=\"accuracy\")\n"
      ]
    },
    {
      "cell_type": "code",
      "execution_count": null,
      "metadata": {
        "id": "xwlN8DUgp86z"
      },
      "outputs": [],
      "source": [
        "from sklearn.base import BaseEstimator\n",
        "class Never5classifier(BaseEstimator):\n",
        "    def fit(self,X,y=None):\n",
        "        pass\n",
        "    def predict(self,X):\n",
        "        return np.zeros((len(X),1),dtype=bool)   "
      ]
    },
    {
      "cell_type": "code",
      "execution_count": null,
      "metadata": {
        "id": "YcycKrfcp86z",
        "outputId": "53c2c8a6-06f4-432e-d222-01bb0aa1afdf"
      },
      "outputs": [
        {
          "name": "stdout",
          "output_type": "stream",
          "text": [
            "[[False]\n",
            " [False]\n",
            " [False]\n",
            " ...\n",
            " [False]\n",
            " [False]\n",
            " [False]]\n",
            "[ True False False ... False  True False]\n"
          ]
        },
        {
          "name": "stderr",
          "output_type": "stream",
          "text": [
            "C:\\Users\\91832\\AppData\\Local\\Packages\\PythonSoftwareFoundation.Python.3.9_qbz5n2kfra8p0\\LocalCache\\local-packages\\Python39\\site-packages\\sklearn\\base.py:443: UserWarning: X has feature names, but SGDClassifier was fitted without feature names\n",
            "  warnings.warn(\n"
          ]
        }
      ],
      "source": [
        "never_5_clf = Never5classifier()\n",
        "print(never_5_clf.predict(X))\n",
        "print(sgd_clf.predict(X))"
      ]
    },
    {
      "cell_type": "code",
      "execution_count": null,
      "metadata": {
        "id": "b6PUVuoFp86z",
        "outputId": "68dc02c3-2dc6-48e5-cfa4-8eb2d2d0b539"
      },
      "outputs": [
        {
          "data": {
            "text/plain": [
              "array([0.91125, 0.90855, 0.90915])"
            ]
          },
          "execution_count": 13,
          "metadata": {},
          "output_type": "execute_result"
        }
      ],
      "source": [
        "cross_val_score(never_5_clf,X_train,y_train_5,cv=3,scoring=\"accuracy\")\n"
      ]
    },
    {
      "cell_type": "code",
      "execution_count": null,
      "metadata": {
        "id": "5IOQKvV9p860",
        "outputId": "176d4fd2-90f3-4772-ee1b-0f00a4307f89"
      },
      "outputs": [
        {
          "data": {
            "text/plain": [
              "array([ True, False, False, ...,  True, False, False])"
            ]
          },
          "execution_count": 14,
          "metadata": {},
          "output_type": "execute_result"
        }
      ],
      "source": [
        "from sklearn.model_selection import cross_val_predict\n",
        "c_pri = cross_val_predict(sgd_clf,X_train,y_train_5,cv=4)\n",
        "c_pri"
      ]
    },
    {
      "cell_type": "code",
      "execution_count": null,
      "metadata": {
        "id": "hcnbpP0Yp860",
        "outputId": "1bc26238-09db-4f71-f381-44b026e18651"
      },
      "outputs": [
        {
          "data": {
            "text/plain": [
              "array([[53263,  1316],\n",
              "       [ 1041,  4380]], dtype=int64)"
            ]
          },
          "execution_count": 15,
          "metadata": {},
          "output_type": "execute_result"
        }
      ],
      "source": [
        "from sklearn.metrics import confusion_matrix\n",
        "confusion_matrix(y_train_5,c_pri)"
      ]
    },
    {
      "cell_type": "code",
      "execution_count": null,
      "metadata": {
        "id": "XFcUXStlp860",
        "outputId": "94d6723d-5c60-4853-8ee1-70d3028ceeb5"
      },
      "outputs": [
        {
          "data": {
            "text/plain": [
              "array([[54579,     0],\n",
              "       [    0,  5421]], dtype=int64)"
            ]
          },
          "execution_count": 16,
          "metadata": {},
          "output_type": "execute_result"
        }
      ],
      "source": [
        "confusion_matrix(y_train_5,y_train_5)"
      ]
    },
    {
      "cell_type": "code",
      "execution_count": null,
      "metadata": {
        "id": "_OBVOfJYp860",
        "outputId": "f1ee73c4-7c25-476e-adbd-567761555ba7"
      },
      "outputs": [
        {
          "name": "stdout",
          "output_type": "stream",
          "text": [
            "0.7689606741573034\n",
            "0.8079690094078583\n"
          ]
        }
      ],
      "source": [
        "from sklearn.metrics import precision_score,recall_score\n",
        "print(precision_score(y_train_5,c_pri))\n",
        "print(recall_score(y_train_5,c_pri))"
      ]
    },
    {
      "cell_type": "code",
      "execution_count": null,
      "metadata": {
        "id": "WU65GOS9p860",
        "outputId": "bac48874-0bbf-4b80-b079-c00bba7243f4"
      },
      "outputs": [
        {
          "data": {
            "text/plain": [
              "0.7879823693442477"
            ]
          },
          "execution_count": 18,
          "metadata": {},
          "output_type": "execute_result"
        }
      ],
      "source": [
        "from sklearn.metrics import f1_score\n",
        "f1_score(y_train_5,c_pri)"
      ]
    },
    {
      "cell_type": "code",
      "execution_count": null,
      "metadata": {
        "id": "c_R63QGHp861",
        "outputId": "ef95ff5d-3f0a-4176-c08b-627d2f80fdab"
      },
      "outputs": [
        {
          "data": {
            "text/plain": [
              "array([ True])"
            ]
          },
          "execution_count": 19,
          "metadata": {},
          "output_type": "execute_result"
        }
      ],
      "source": [
        "threhold=0\n",
        "d_score = sgd_clf.decision_function([some_digit])\n",
        "d_score\n",
        "ans_b_on_dscore = (d_score>threhold)\n",
        "ans_b_on_dscore\n"
      ]
    },
    {
      "cell_type": "code",
      "execution_count": null,
      "metadata": {
        "id": "8tCL5tbFp861",
        "outputId": "6c6a6426-b39f-433e-e980-75c610aed60c"
      },
      "outputs": [
        {
          "data": {
            "text/plain": [
              "array([False])"
            ]
          },
          "execution_count": 20,
          "metadata": {},
          "output_type": "execute_result"
        }
      ],
      "source": [
        "threhold=8000\n",
        "ans_b_on_dscore = (d_score>threhold)\n",
        "ans_b_on_dscore"
      ]
    },
    {
      "cell_type": "code",
      "execution_count": null,
      "metadata": {
        "id": "ZvGO_xLkp861",
        "outputId": "e6c6dbde-7d3f-42f7-bb11-4884ea591416"
      },
      "outputs": [
        {
          "data": {
            "text/plain": [
              "60000"
            ]
          },
          "execution_count": 21,
          "metadata": {},
          "output_type": "execute_result"
        }
      ],
      "source": [
        "len(c_pri)"
      ]
    },
    {
      "cell_type": "code",
      "execution_count": null,
      "metadata": {
        "id": "GeiqH7XDp861",
        "outputId": "f6381c2f-fdf7-4234-e5e3-e72e17df7ec4"
      },
      "outputs": [
        {
          "data": {
            "text/plain": [
              "array([  1200.93051237, -26883.79202424, -33072.03475406, ...,\n",
              "        13272.12718981,  -7258.47203373, -16877.50840447])"
            ]
          },
          "execution_count": 22,
          "metadata": {},
          "output_type": "execute_result"
        }
      ],
      "source": [
        "y_pridect_d_s = cross_val_predict(sgd_clf,X_train,y_train_5,cv=3,method=\"decision_function\")\n",
        "y_pridect_d_s"
      ]
    },
    {
      "cell_type": "code",
      "execution_count": null,
      "metadata": {
        "id": "68jorOI8p861"
      },
      "outputs": [],
      "source": [
        "from sklearn.metrics import precision_recall_curve\n",
        "precisions,recall,threshold=precision_recall_curve(y_train_5,y_pridect_d_s)\n"
      ]
    },
    {
      "cell_type": "code",
      "execution_count": null,
      "metadata": {
        "id": "vfNu57i7p861",
        "outputId": "2e42c1ff-3723-4250-9cf5-a3b237cf94d7"
      },
      "outputs": [
        {
          "data": {
            "image/png": "[encoded data removed]",
            "text/plain": [
              "<Figure size 432x288 with 1 Axes>"
            ]
          },
          "metadata": {
            "needs_background": "light"
          },
          "output_type": "display_data"
        }
      ],
      "source": [
        "def plot_precision_recall_vs_threshold(precisions, recall, threshold):\n",
        "    pyt.plot(threshold, precisions[:-1], \"b--\", label=\"precisions\")\n",
        "    pyt.plot(threshold, recall[:-1], \"g--\", label=\"recall\")\n",
        "    pyt.legend()\n",
        "\n",
        "\n",
        "plot_precision_recall_vs_threshold(precisions, recall, threshold)\n",
        "    \n"
      ]
    },
    {
      "cell_type": "code",
      "execution_count": null,
      "metadata": {
        "id": "W6AfzAzpp861",
        "outputId": "6a8fb852-4cf7-4b52-a04e-62dbc1e1547d"
      },
      "outputs": [
        {
          "data": {
            "image/png": "[encoded data removed]",
            "text/plain": [
              "<Figure size 432x288 with 1 Axes>"
            ]
          },
          "metadata": {
            "needs_background": "light"
          },
          "output_type": "display_data"
        }
      ],
      "source": [
        "pyt.plot(precisions, recall)\n",
        "pyt.show()\n"
      ]
    },
    {
      "cell_type": "code",
      "execution_count": null,
      "metadata": {
        "id": "twvIIP2Ap861",
        "outputId": "f87ecc46-747c-446f-93e8-bcfaaaba928a"
      },
      "outputs": [
        {
          "data": {
            "text/plain": [
              "3370.0194991439557"
            ]
          },
          "execution_count": 26,
          "metadata": {},
          "output_type": "execute_result"
        }
      ],
      "source": [
        "threshold_precsion_90 = threshold[np.argmax(precisions>=0.90)]\n",
        "threshold_precsion_90"
      ]
    },
    {
      "cell_type": "code",
      "execution_count": null,
      "metadata": {
        "id": "fRgDHs4Ep861",
        "outputId": "e84e069f-fa80-4d76-8c77-5ae8648feaf1"
      },
      "outputs": [
        {
          "data": {
            "text/plain": [
              "array([False, False, False, ...,  True, False, False])"
            ]
          },
          "execution_count": 27,
          "metadata": {},
          "output_type": "execute_result"
        }
      ],
      "source": [
        "y_train_pred_90 = (y_pridect_d_s>=threshold_precsion_90)\n",
        "y_train_pred_90"
      ]
    },
    {
      "cell_type": "code",
      "execution_count": null,
      "metadata": {
        "id": "sXzS8k5yp861",
        "outputId": "e0e0a35d-6a9e-4f7a-9d1d-8aae69f42ab5"
      },
      "outputs": [
        {
          "data": {
            "text/plain": [
              "0.9000345901072293"
            ]
          },
          "execution_count": 28,
          "metadata": {},
          "output_type": "execute_result"
        }
      ],
      "source": [
        "precision_score(y_train_5,y_train_pred_90)\n"
      ]
    },
    {
      "cell_type": "code",
      "execution_count": null,
      "metadata": {
        "id": "fNJDOusnp862",
        "outputId": "24207c19-c312-49c5-9e0b-debed91f9e60"
      },
      "outputs": [
        {
          "data": {
            "text/plain": [
              "0.4799852425751706"
            ]
          },
          "execution_count": 29,
          "metadata": {},
          "output_type": "execute_result"
        }
      ],
      "source": [
        "recall_score(y_train_5, y_train_pred_90)\n"
      ]
    },
    {
      "cell_type": "code",
      "execution_count": null,
      "metadata": {
        "id": "MPXCvMi7p862",
        "outputId": "eb610cbe-68ab-4fb5-f648-b23957a19cd6"
      },
      "outputs": [
        {
          "data": {
            "image/png": "[encoded data removed]",
            "text/plain": [
              "<Figure size 432x288 with 1 Axes>"
            ]
          },
          "metadata": {
            "needs_background": "light"
          },
          "output_type": "display_data"
        }
      ],
      "source": [
        "from sklearn.metrics import roc_curve\n",
        "\n",
        "fpr,tnr,threhold = roc_curve(y_train_5,y_pridect_d_s)\n",
        "\n",
        "def plot_roc_curve(fpr,tpr,label=None):\n",
        "    pyt.plot(fpr,tpr)\n",
        "    pyt.plot([0,1],[0,1],\"k--\")\n",
        "    pyt.xlabel(\"false positive rate\")\n",
        "    pyt.ylabel(\"true negative rate\")\n",
        "\n",
        "plot_roc_curve(fpr,tnr)\n",
        "    \n",
        "    "
      ]
    },
    {
      "cell_type": "code",
      "execution_count": null,
      "metadata": {
        "id": "x3Ybbq-Xp862",
        "outputId": "022ba5ed-dee0-49c7-c1ff-0af447fb47ad"
      },
      "outputs": [
        {
          "data": {
            "text/plain": [
              "0.9604938554008616"
            ]
          },
          "execution_count": 31,
          "metadata": {},
          "output_type": "execute_result"
        }
      ],
      "source": [
        "from sklearn.metrics import roc_auc_score\n",
        "roc_auc_score(y_train_5,y_pridect_d_s)"
      ]
    },
    {
      "cell_type": "code",
      "execution_count": null,
      "metadata": {
        "id": "t-VTraZvp862"
      },
      "outputs": [],
      "source": [
        "from sklearn.ensemble import RandomForestClassifier\n",
        "forest_clf = RandomForestClassifier(random_state=42)\n",
        "y_probalblit_foreat = cross_val_predict(forest_clf,X_train,y_train_5,cv=3,method=\"predict_proba\")"
      ]
    },
    {
      "cell_type": "code",
      "execution_count": null,
      "metadata": {
        "id": "bc3istcEp862"
      },
      "outputs": [],
      "source": [
        "w_q=cross_val_predict(forest_clf, X_train, y_train_5, cv=3)"
      ]
    },
    {
      "cell_type": "code",
      "execution_count": null,
      "metadata": {
        "id": "fN1a0fMOp862",
        "outputId": "4f2fff00-e9ac-4c67-f813-26b5bcf19d2b"
      },
      "outputs": [
        {
          "name": "stdout",
          "output_type": "stream",
          "text": [
            "0.9905083315756169\n",
            "0.8662608374838591\n"
          ]
        }
      ],
      "source": [
        "print(precision_score(y_train_5,w_q))\n",
        "print(recall_score(y_train_5,w_q))\n"
      ]
    },
    {
      "cell_type": "code",
      "execution_count": null,
      "metadata": {
        "id": "ig52Ap0ip862",
        "outputId": "5f5f9cd2-8023-4321-c28a-13479f9a0d77"
      },
      "outputs": [
        {
          "data": {
            "text/plain": [
              "array([[0.11, 0.89],\n",
              "       [0.99, 0.01],\n",
              "       [0.96, 0.04],\n",
              "       ...,\n",
              "       [0.02, 0.98],\n",
              "       [0.92, 0.08],\n",
              "       [0.94, 0.06]])"
            ]
          },
          "execution_count": 35,
          "metadata": {},
          "output_type": "execute_result"
        }
      ],
      "source": [
        "y_probalblit_foreat"
      ]
    },
    {
      "cell_type": "code",
      "execution_count": null,
      "metadata": {
        "id": "PRzFlPUOp862",
        "outputId": "80273363-44dd-4b7d-befb-eae97161c093"
      },
      "outputs": [
        {
          "data": {
            "image/png": "[encoded data removed]",
            "text/plain": [
              "<Figure size 432x288 with 1 Axes>"
            ]
          },
          "metadata": {
            "needs_background": "light"
          },
          "output_type": "display_data"
        }
      ],
      "source": [
        "y_postive_scores = y_probalblit_foreat[:,1]\n",
        "fpr_1,tpr_1,threshold_1 = roc_curve(y_train_5,y_postive_scores)\n",
        "\n",
        "plot_roc_curve(fpr_1,tpr_1)"
      ]
    },
    {
      "cell_type": "code",
      "execution_count": null,
      "metadata": {
        "id": "_Nl2VLlTp862",
        "outputId": "f5aafb67-97cb-4081-a805-81a748066ffe"
      },
      "outputs": [
        {
          "data": {
            "text/plain": [
              "0.9983436731328145"
            ]
          },
          "execution_count": 37,
          "metadata": {},
          "output_type": "execute_result"
        }
      ],
      "source": [
        "roc_auc_score(y_train_5,y_postive_scores)"
      ]
    },
    {
      "cell_type": "code",
      "execution_count": null,
      "metadata": {
        "id": "Z8Pru1hZp862",
        "outputId": "0fb140f3-3ecc-4736-b11a-aac58de53ee2"
      },
      "outputs": [
        {
          "name": "stdout",
          "output_type": "stream",
          "text": [
            "[3]\n"
          ]
        },
        {
          "name": "stderr",
          "output_type": "stream",
          "text": [
            "C:\\Users\\91832\\AppData\\Local\\Packages\\PythonSoftwareFoundation.Python.3.9_qbz5n2kfra8p0\\LocalCache\\local-packages\\Python39\\site-packages\\sklearn\\base.py:450: UserWarning: X does not have valid feature names, but SGDClassifier was fitted with feature names\n",
            "  warnings.warn(\n"
          ]
        }
      ],
      "source": [
        "muliti_testing = sgd_clf.fit(X,y)\n",
        "print(sgd_clf.predict([some_digit]))"
      ]
    },
    {
      "cell_type": "code",
      "execution_count": null,
      "metadata": {
        "id": "ox8atZJVp862",
        "outputId": "63b89386-c8fd-4f7a-97b8-858cd49a19d2"
      },
      "outputs": [
        {
          "name": "stderr",
          "output_type": "stream",
          "text": [
            "C:\\Users\\91832\\AppData\\Local\\Packages\\PythonSoftwareFoundation.Python.3.9_qbz5n2kfra8p0\\LocalCache\\local-packages\\Python39\\site-packages\\sklearn\\base.py:450: UserWarning: X does not have valid feature names, but SGDClassifier was fitted with feature names\n",
            "  warnings.warn(\n"
          ]
        },
        {
          "data": {
            "text/plain": [
              "array([[-21858.88421853, -17054.58543894,  -6413.85672128,\n",
              "           627.51239784, -17593.3441168 ,   -208.68886561,\n",
              "        -19874.01315767, -15167.12515145,  -7890.74081026,\n",
              "        -10509.26427149]])"
            ]
          },
          "execution_count": 39,
          "metadata": {},
          "output_type": "execute_result"
        }
      ],
      "source": [
        "scores_of_df = sgd_clf.decision_function([some_digit])\n",
        "scores_of_df"
      ]
    },
    {
      "cell_type": "code",
      "execution_count": null,
      "metadata": {
        "id": "6WCg_TMvp862",
        "outputId": "c0929dab-d508-46bc-dad7-b501ca75dade"
      },
      "outputs": [
        {
          "data": {
            "text/plain": [
              "3"
            ]
          },
          "execution_count": 40,
          "metadata": {},
          "output_type": "execute_result"
        }
      ],
      "source": [
        "np.argmax(scores_of_df>=5)\n",
        "sgd_clf.classes_\n",
        "sgd_clf.classes_[3]\n"
      ]
    },
    {
      "cell_type": "code",
      "execution_count": null,
      "metadata": {
        "id": "1e3LJRjmp863",
        "outputId": "73cfce32-bda3-478e-d039-cdead893b463"
      },
      "outputs": [
        {
          "name": "stderr",
          "output_type": "stream",
          "text": [
            "C:\\Users\\91832\\AppData\\Local\\Packages\\PythonSoftwareFoundation.Python.3.9_qbz5n2kfra8p0\\LocalCache\\local-packages\\Python39\\site-packages\\sklearn\\base.py:450: UserWarning: X does not have valid feature names, but OneVsOneClassifier was fitted with feature names\n",
            "  warnings.warn(\n"
          ]
        },
        {
          "data": {
            "text/plain": [
              "array([5])"
            ]
          },
          "execution_count": 41,
          "metadata": {},
          "output_type": "execute_result"
        }
      ],
      "source": [
        "from sklearn.multiclass import OneVsOneClassifier\n",
        "OvsO = OneVsOneClassifier(SGDClassifier(random_state=42))\n",
        "OvsO.fit(X,y)\n",
        "OvsO.predict([some_digit])"
      ]
    },
    {
      "cell_type": "code",
      "execution_count": null,
      "metadata": {
        "id": "ux7Ho6Gyp863",
        "outputId": "04e2b8cc-1968-4871-8340-eb6e2249001d"
      },
      "outputs": [
        {
          "data": {
            "text/plain": [
              "45"
            ]
          },
          "execution_count": 42,
          "metadata": {},
          "output_type": "execute_result"
        }
      ],
      "source": [
        "len(OvsO.estimators_)"
      ]
    },
    {
      "cell_type": "code",
      "execution_count": null,
      "metadata": {
        "id": "Iy98BkFWp863",
        "outputId": "ae49b477-b4ae-40e2-ff85-07d4db1115ff"
      },
      "outputs": [
        {
          "data": {
            "text/plain": [
              "array([5])"
            ]
          },
          "execution_count": 43,
          "metadata": {},
          "output_type": "execute_result"
        }
      ],
      "source": [
        "from sklearn.multiclass import OneVsRestClassifier\n",
        "Ovsr = OneVsRestClassifier(SGDClassifier(random_state=42))\n",
        "Ovsr.fit(X_train,y_train)\n",
        "Ovsr.predict([some_digit])"
      ]
    },
    {
      "cell_type": "code",
      "execution_count": null,
      "metadata": {
        "id": "j81SUAxop863",
        "outputId": "71d49d80-4e27-4706-ca30-2631f5b71c50"
      },
      "outputs": [
        {
          "data": {
            "text/plain": [
              "array([5])"
            ]
          },
          "execution_count": 44,
          "metadata": {},
          "output_type": "execute_result"
        }
      ],
      "source": [
        "forest_clf.fit(X_train,y_train)\n",
        "forest_clf.predict([some_digit])"
      ]
    },
    {
      "cell_type": "code",
      "execution_count": null,
      "metadata": {
        "id": "6rwWvlf8p863",
        "outputId": "182a22a8-13b0-441b-d2d5-ec2fd5bbf1e8"
      },
      "outputs": [
        {
          "data": {
            "text/plain": [
              "array([[0.  , 0.  , 0.01, 0.08, 0.  , 0.9 , 0.  , 0.  , 0.  , 0.01]])"
            ]
          },
          "execution_count": 45,
          "metadata": {},
          "output_type": "execute_result"
        }
      ],
      "source": [
        "forest_clf.predict_proba([some_digit])"
      ]
    },
    {
      "cell_type": "code",
      "execution_count": null,
      "metadata": {
        "id": "Vc3hmtzdp863",
        "outputId": "287e00c7-8f0c-4947-9d11-f9a81de37cf1"
      },
      "outputs": [
        {
          "data": {
            "text/plain": [
              "array([0.87365, 0.85835, 0.8689 ])"
            ]
          },
          "execution_count": 46,
          "metadata": {},
          "output_type": "execute_result"
        }
      ],
      "source": [
        "cross_val_score(sgd_clf,X_train,y_train,cv=3,scoring=\"accuracy\")"
      ]
    },
    {
      "cell_type": "code",
      "execution_count": null,
      "metadata": {
        "id": "TXfo4mJsp863",
        "outputId": "f407e03e-564e-4f30-dfbf-c8722fdd501c"
      },
      "outputs": [
        {
          "data": {
            "text/plain": [
              "array([0.8983, 0.891 , 0.9018])"
            ]
          },
          "execution_count": 47,
          "metadata": {},
          "output_type": "execute_result"
        }
      ],
      "source": [
        "from sklearn.preprocessing import StandardScaler\n",
        "sccaler =StandardScaler()\n",
        "X_train_scaled = sccaler.fit_transform(X_train.astype(np.float64))\n",
        "cross_val_score(sgd_clf, X_train_scaled, y_train, cv=3, scoring=\"accuracy\")\n"
      ]
    },
    {
      "cell_type": "code",
      "execution_count": null,
      "metadata": {
        "id": "US6RFQVVp863",
        "outputId": "5fb4a3b2-418d-418e-ed9f-f7cc773afd8b"
      },
      "outputs": [
        {
          "data": {
            "text/plain": [
              "array([[5635,    0,   61,   10,   16,   50,   46,    7,   66,   32],\n",
              "       [   3, 6393,   95,   21,   16,   47,   15,   27,  109,   16],\n",
              "       [  72,   56, 5174,   89,   69,   39,  163,   66,  212,   18],\n",
              "       [  58,   32,  217, 4941,   23,  441,   32,   56,  216,  115],\n",
              "       [  11,   26,   46,    6, 5298,   26,   73,   32,   87,  237],\n",
              "       [  68,   23,   58,  150,   83, 4606,  174,   26,  152,   81],\n",
              "       [  40,   13,   56,    6,   22,  113, 5625,    5,   36,    2],\n",
              "       [  23,   24,  103,   36,  124,   40,   10, 5228,   75,  602],\n",
              "       [  40,  101,  158,  122,   49,  457,   77,   35, 4666,  146],\n",
              "       [  33,   18,   66,   83,  515,  127,    4,  485,  166, 4452]],\n",
              "      dtype=int64)"
            ]
          },
          "execution_count": 48,
          "metadata": {},
          "output_type": "execute_result"
        }
      ],
      "source": [
        "y_prepared = cross_val_predict(sgd_clf,\n",
        "                               X_train,y_train,cv=3)\n",
        "conf_mx = confusion_matrix(y_train,y_prepared)\n",
        "conf_mx"
      ]
    },
    {
      "cell_type": "code",
      "execution_count": null,
      "metadata": {
        "id": "BUUq93qkp863",
        "outputId": "6252bad5-a839-4a16-cabe-373ed885de91"
      },
      "outputs": [
        {
          "data": {
            "image/png": "[encoded data removed]",
            "text/plain": [
              "<Figure size 288x288 with 1 Axes>"
            ]
          },
          "metadata": {
            "needs_background": "light"
          },
          "output_type": "display_data"
        }
      ],
      "source": [
        "pyt.matshow(conf_mx,cmap=pyt.cm.gray)\n",
        "pyt.show()"
      ]
    },
    {
      "cell_type": "code",
      "execution_count": null,
      "metadata": {
        "id": "mPCT4kGmp863",
        "outputId": "82303d8b-aafb-4aa0-ebcc-9d7bd2b223e2"
      },
      "outputs": [
        {
          "data": {
            "text/plain": [
              "array([[5923],\n",
              "       [6742],\n",
              "       [5958],\n",
              "       [6131],\n",
              "       [5842],\n",
              "       [5421],\n",
              "       [5918],\n",
              "       [6265],\n",
              "       [5851],\n",
              "       [5949]], dtype=int64)"
            ]
          },
          "execution_count": 50,
          "metadata": {},
          "output_type": "execute_result"
        }
      ],
      "source": [
        "row_sums = conf_mx.sum(axis=1,keepdims=True)\n",
        "row_sums"
      ]
    },
    {
      "cell_type": "code",
      "execution_count": null,
      "metadata": {
        "id": "-QcNvLcop863",
        "outputId": "a042dc0f-70d8-4d68-bd94-440e2f1e2ebf"
      },
      "outputs": [
        {
          "data": {
            "text/plain": [
              "array([[9.51375992e-01, 0.00000000e+00, 1.02988350e-02, 1.68833361e-03,\n",
              "        2.70133378e-03, 8.44166807e-03, 7.76633463e-03, 1.18183353e-03,\n",
              "        1.11430019e-02, 5.40266757e-03],\n",
              "       [4.44971818e-04, 9.48234945e-01, 1.40907743e-02, 3.11480273e-03,\n",
              "        2.37318303e-03, 6.97122516e-03, 2.22485909e-03, 4.00474637e-03,\n",
              "        1.61673094e-02, 2.37318303e-03],\n",
              "       [1.20845921e-02, 9.39912722e-03, 8.68412219e-01, 1.49378986e-02,\n",
              "        1.15810675e-02, 6.54582075e-03, 2.73581739e-02, 1.10775428e-02,\n",
              "        3.55824102e-02, 3.02114804e-03],\n",
              "       [9.46012070e-03, 5.21937694e-03, 3.53938999e-02, 8.05904420e-01,\n",
              "        3.75142717e-03, 7.19295384e-02, 5.21937694e-03, 9.13390964e-03,\n",
              "        3.52307943e-02, 1.87571359e-02],\n",
              "       [1.88291681e-03, 4.45053064e-03, 7.87401575e-03, 1.02704553e-03,\n",
              "        9.06881205e-01, 4.45053064e-03, 1.24957206e-02, 5.47757617e-03,\n",
              "        1.48921602e-02, 4.05682985e-02],\n",
              "       [1.25438111e-02, 4.24275964e-03, 1.06991330e-02, 2.76701716e-02,\n",
              "        1.53108283e-02, 8.49658735e-01, 3.20973990e-02, 4.79616307e-03,\n",
              "        2.80391072e-02, 1.49418926e-02],\n",
              "       [6.75904022e-03, 2.19668807e-03, 9.46265630e-03, 1.01385603e-03,\n",
              "        3.71747212e-03, 1.90942886e-02, 9.50490030e-01, 8.44880027e-04,\n",
              "        6.08313619e-03, 3.37952011e-04],\n",
              "       [3.67118915e-03, 3.83080607e-03, 1.64405427e-02, 5.74620910e-03,\n",
              "        1.97924980e-02, 6.38467678e-03, 1.59616919e-03, 8.34477255e-01,\n",
              "        1.19712690e-02, 9.60893855e-02],\n",
              "       [6.83643822e-03, 1.72620065e-02, 2.70039310e-02, 2.08511366e-02,\n",
              "        8.37463681e-03, 7.81063066e-02, 1.31601436e-02, 5.98188344e-03,\n",
              "        7.97470518e-01, 2.49529995e-02],\n",
              "       [5.54715078e-03, 3.02571861e-03, 1.10943016e-02, 1.39519247e-02,\n",
              "        8.65691713e-02, 2.13481257e-02, 6.72381913e-04, 8.15263069e-02,\n",
              "        2.79038494e-02, 7.48361069e-01]])"
            ]
          },
          "execution_count": 51,
          "metadata": {},
          "output_type": "execute_result"
        }
      ],
      "source": [
        "norm_conf_mx = conf_mx/row_sums\n",
        "norm_conf_mx"
      ]
    },
    {
      "cell_type": "code",
      "execution_count": null,
      "metadata": {
        "id": "eBXszPD5p863"
      },
      "outputs": [],
      "source": [
        "np.fill_diagonal(norm_conf_mx,0)"
      ]
    },
    {
      "cell_type": "code",
      "execution_count": null,
      "metadata": {
        "id": "MyEM01mip864",
        "outputId": "53bd8d3b-82a0-4498-b814-9d7a4ba51967"
      },
      "outputs": [
        {
          "data": {
            "text/plain": [
              "<matplotlib.image.AxesImage at 0x1fb13c3f730>"
            ]
          },
          "execution_count": 53,
          "metadata": {},
          "output_type": "execute_result"
        },
        {
          "data": {
            "image/png": "[encoded data removed]",
            "text/plain": [
              "<Figure size 288x288 with 1 Axes>"
            ]
          },
          "metadata": {
            "needs_background": "light"
          },
          "output_type": "display_data"
        }
      ],
      "source": [
        "pyt.matshow(norm_conf_mx,cmap=pyt.cm.gray)"
      ]
    },
    {
      "cell_type": "code",
      "execution_count": null,
      "metadata": {
        "id": "53W81u_bp864"
      },
      "outputs": [],
      "source": [
        "cl_a,cl_b=3,5\n",
        "X_aa = X_train[(y_train==cl_a)&(y_prepared==cl_a)]\n",
        "X_ab = X_train[(y_train==cl_a)&(y_prepared==cl_b)]\n",
        "X_ba = X_train[(y_train==cl_b)&(y_prepared==cl_a)]\n",
        "X_bb = X_train[(y_train==cl_b)&(y_prepared==cl_b)]"
      ]
    },
    {
      "cell_type": "code",
      "execution_count": null,
      "metadata": {
        "id": "0JDDzvGSp864"
      },
      "outputs": [],
      "source": [
        "def plot_digits(instances, images_per_row=10, **options):\n",
        "    size = 28\n",
        "    images_per_row = min(len(instances), images_per_row)\n",
        "    images = [instance.reshape(size, size) for instance in instances]\n",
        "    n_rows = (len(instances) - 1) // images_per_row + 1\n",
        "    row_images = []\n",
        "    n_empty = n_rows * images_per_row - len(instances)\n",
        "    images.append(np.zeros((size, size * n_empty)))\n",
        "    for row in range(n_rows):\n",
        "        rimages = images[row * images_per_row: (row + 1) * images_per_row]\n",
        "        row_images.append(np.concatenate(rimages, axis=1))\n",
        "    image = np.concatenate(row_images, axis=0)\n",
        "    pyt.imshow(image, cmap=mpt.cm.binary, **options)\n",
        "    pyt.axis(\"off\")\n"
      ]
    },
    {
      "cell_type": "code",
      "execution_count": null,
      "metadata": {
        "id": "cxkQUaosp864",
        "outputId": "df3a0557-2254-4b4c-bd12-84e615b5affd"
      },
      "outputs": [
        {
          "data": {
            "image/png": "[encoded data removed]",
            "text/plain": [
              "<Figure size 576x576 with 4 Axes>"
            ]
          },
          "metadata": {
            "needs_background": "light"
          },
          "output_type": "display_data"
        }
      ],
      "source": [
        "pyt.figure(figsize=(8,8))\n",
        "pyt.subplot(221);\n",
        "plot_digits(X_aa,5)\n",
        "pyt.subplot(222);\n",
        "plot_digits(X_ab, 5)\n",
        "pyt.subplot(223);\n",
        "plot_digits(X_ba, 5)\n",
        "pyt.subplot(224);\n",
        "plot_digits(X_bb, 5)\n"
      ]
    },
    {
      "cell_type": "code",
      "execution_count": null,
      "metadata": {
        "id": "KZhr4Zcjp864",
        "outputId": "4c292c22-0c56-48fc-fc6b-d562e4d60290"
      },
      "outputs": [
        {
          "data": {
            "text/html": [
              "<style>#sk-container-id-2 {color: black;background-color: white;}#sk-container-id-2 pre{padding: 0;}#sk-container-id-2 div.sk-toggleable {background-color: white;}#sk-container-id-2 label.sk-toggleable__label {cursor: pointer;display: block;width: 100%;margin-bottom: 0;padding: 0.3em;box-sizing: border-box;text-align: center;}#sk-container-id-2 label.sk-toggleable__label-arrow:before {content: \"▸\";float: left;margin-right: 0.25em;color: #696969;}#sk-container-id-2 label.sk-toggleable__label-arrow:hover:before {color: black;}#sk-container-id-2 div.sk-estimator:hover label.sk-toggleable__label-arrow:before {color: black;}#sk-container-id-2 div.sk-toggleable__content {max-height: 0;max-width: 0;overflow: hidden;text-align: left;background-color: #f0f8ff;}#sk-container-id-2 div.sk-toggleable__content pre {margin: 0.2em;color: black;border-radius: 0.25em;background-color: #f0f8ff;}#sk-container-id-2 input.sk-toggleable__control:checked~div.sk-toggleable__content {max-height: 200px;max-width: 100%;overflow: auto;}#sk-container-id-2 input.sk-toggleable__control:checked~label.sk-toggleable__label-arrow:before {content: \"▾\";}#sk-container-id-2 div.sk-estimator input.sk-toggleable__control:checked~label.sk-toggleable__label {background-color: #d4ebff;}#sk-container-id-2 div.sk-label input.sk-toggleable__control:checked~label.sk-toggleable__label {background-color: #d4ebff;}#sk-container-id-2 input.sk-hidden--visually {border: 0;clip: rect(1px 1px 1px 1px);clip: rect(1px, 1px, 1px, 1px);height: 1px;margin: -1px;overflow: hidden;padding: 0;position: absolute;width: 1px;}#sk-container-id-2 div.sk-estimator {font-family: monospace;background-color: #f0f8ff;border: 1px dotted black;border-radius: 0.25em;box-sizing: border-box;margin-bottom: 0.5em;}#sk-container-id-2 div.sk-estimator:hover {background-color: #d4ebff;}#sk-container-id-2 div.sk-parallel-item::after {content: \"\";width: 100%;border-bottom: 1px solid gray;flex-grow: 1;}#sk-container-id-2 div.sk-label:hover label.sk-toggleable__label {background-color: #d4ebff;}#sk-container-id-2 div.sk-serial::before {content: \"\";position: absolute;border-left: 1px solid gray;box-sizing: border-box;top: 0;bottom: 0;left: 50%;z-index: 0;}#sk-container-id-2 div.sk-serial {display: flex;flex-direction: column;align-items: center;background-color: white;padding-right: 0.2em;padding-left: 0.2em;position: relative;}#sk-container-id-2 div.sk-item {position: relative;z-index: 1;}#sk-container-id-2 div.sk-parallel {display: flex;align-items: stretch;justify-content: center;background-color: white;position: relative;}#sk-container-id-2 div.sk-item::before, #sk-container-id-2 div.sk-parallel-item::before {content: \"\";position: absolute;border-left: 1px solid gray;box-sizing: border-box;top: 0;bottom: 0;left: 50%;z-index: -1;}#sk-container-id-2 div.sk-parallel-item {display: flex;flex-direction: column;z-index: 1;position: relative;background-color: white;}#sk-container-id-2 div.sk-parallel-item:first-child::after {align-self: flex-end;width: 50%;}#sk-container-id-2 div.sk-parallel-item:last-child::after {align-self: flex-start;width: 50%;}#sk-container-id-2 div.sk-parallel-item:only-child::after {width: 0;}#sk-container-id-2 div.sk-dashed-wrapped {border: 1px dashed gray;margin: 0 0.4em 0.5em 0.4em;box-sizing: border-box;padding-bottom: 0.4em;background-color: white;}#sk-container-id-2 div.sk-label label {font-family: monospace;font-weight: bold;display: inline-block;line-height: 1.2em;}#sk-container-id-2 div.sk-label-container {text-align: center;}#sk-container-id-2 div.sk-container {/* jupyter's `normalize.less` sets `[hidden] { display: none; }` but bootstrap.min.css set `[hidden] { display: none !important; }` so we also need the `!important` here to be able to override the default hidden behavior on the sphinx rendered scikit-learn.org. See: https://github.com/scikit-learn/scikit-learn/issues/21755 */display: inline-block !important;position: relative;}#sk-container-id-2 div.sk-text-repr-fallback {display: none;}</style><div id=\"sk-container-id-2\" class=\"sk-top-container\"><div class=\"sk-text-repr-fallback\"><pre>KNeighborsClassifier()</pre><b>In a Jupyter environment, please rerun this cell to show the HTML representation or trust the notebook. <br />On GitHub, the HTML representation is unable to render, please try loading this page with nbviewer.org.</b></div><div class=\"sk-container\" hidden><div class=\"sk-item\"><div class=\"sk-estimator sk-toggleable\"><input class=\"sk-toggleable__control sk-hidden--visually\" id=\"sk-estimator-id-2\" type=\"checkbox\" checked><label for=\"sk-estimator-id-2\" class=\"sk-toggleable__label sk-toggleable__label-arrow\">KNeighborsClassifier</label><div class=\"sk-toggleable__content\"><pre>KNeighborsClassifier()</pre></div></div></div></div></div>"
            ],
            "text/plain": [
              "KNeighborsClassifier()"
            ]
          },
          "execution_count": 57,
          "metadata": {},
          "output_type": "execute_result"
        }
      ],
      "source": [
        "from sklearn.neighbors import KNeighborsClassifier\n",
        "y_tran_large = (y_train>=7)\n",
        "y_tran_odd = (y_train % 2==1)\n",
        "y_multi = np.c_[y_tran_large,y_tran_odd]\n",
        "knclass = KNeighborsClassifier()\n",
        "knclass.fit(X_train,y_multi)\n"
      ]
    },
    {
      "cell_type": "code",
      "execution_count": null,
      "metadata": {
        "id": "iehBcSoUp864",
        "outputId": "81bb7f18-ba72-4f3a-a9cc-d210fb6fad94"
      },
      "outputs": [
        {
          "data": {
            "image/png": "[encoded data removed]",
            "text/plain": [
              "<Figure size 432x288 with 1 Axes>"
            ]
          },
          "metadata": {
            "needs_background": "light"
          },
          "output_type": "display_data"
        }
      ],
      "source": [
        "\n",
        "def showd(s_d,i):\n",
        "   s_d = X.iloc[i]\n",
        "   s_d_x = X.iloc[i].to_numpy()\n",
        "   r=s_d_x.reshape(28,28)\n",
        "   pyt.imshow(r,cmap=mpt.cm.binary,interpolation=\"nearest\")\n",
        "showd(X,7)   \n"
      ]
    },
    {
      "cell_type": "code",
      "execution_count": null,
      "metadata": {
        "id": "gQ8C0Wqzp864",
        "outputId": "379cebdc-cf49-4a1e-9c63-b71bf928ac37"
      },
      "outputs": [
        {
          "data": {
            "text/plain": [
              "array([[ True,  True]])"
            ]
          },
          "execution_count": 59,
          "metadata": {},
          "output_type": "execute_result"
        }
      ],
      "source": [
        "knclass.predict([s_d_x])"
      ]
    },
    {
      "cell_type": "code",
      "execution_count": null,
      "metadata": {
        "id": "45Tl__N6p864",
        "outputId": "48f6bcf8-44ce-4e55-ccac-ff59b5207c0b"
      },
      "outputs": [
        {
          "data": {
            "text/plain": [
              "0.976410265560605"
            ]
          },
          "execution_count": 60,
          "metadata": {},
          "output_type": "execute_result"
        }
      ],
      "source": [
        "r_predicted = cross_val_predict(knclass, X_train, y_multi, cv=3)\n",
        "f1_score(y_multi, r_predicted, average=\"macro\")\n"
      ]
    },
    {
      "cell_type": "code",
      "execution_count": null,
      "metadata": {
        "id": "IkoIElw5p864"
      },
      "outputs": [],
      "source": [
        "noise = np.random.randint(1,100,(len(X_train),784))\n",
        "X_mod = X_train + noise\n",
        "noise = np.random.randint(1, 100, (len(X_test), 784))\n",
        "X_t_mod = X_test + noise\n"
      ]
    },
    {
      "cell_type": "code",
      "execution_count": null,
      "metadata": {
        "id": "6sORiml2p864"
      },
      "outputs": [],
      "source": [
        "knclass.fit(X_mod,X_train)\n",
        "clean = knclass.predict(X_test)\n",
        "\n"
      ]
    },
    {
      "cell_type": "code",
      "execution_count": null,
      "metadata": {
        "id": "aaVtGfY8p864",
        "outputId": "846499fc-b714-4e45-aa86-7ebd18ac235a"
      },
      "outputs": [
        {
          "data": {
            "image/png": "[encoded data removed]",
            "text/plain": [
              "<Figure size 432x288 with 1 Axes>"
            ]
          },
          "metadata": {
            "needs_background": "light"
          },
          "output_type": "display_data"
        }
      ],
      "source": [
        "showd(X_mod,7)"
      ]
    },
    {
      "cell_type": "code",
      "execution_count": null,
      "metadata": {
        "id": "hOGzrPl_p864",
        "outputId": "d6edce23-c451-47bc-eba8-6aaab0fc914e"
      },
      "outputs": [
        {
          "data": {
            "image/png": "[encoded data removed]",
            "text/plain": [
              "<Figure size 432x288 with 1 Axes>"
            ]
          },
          "metadata": {
            "needs_background": "light"
          },
          "output_type": "display_data"
        }
      ],
      "source": [
        "showd(clean,7)"
      ]
    }
  ],
  "metadata": {
    "kernelspec": {
      "display_name": "Python 3.9.13 64-bit (windows store)",
      "language": "python",
      "name": "python3"
    },
    "language_info": {
      "codemirror_mode": {
        "name": "ipython",
        "version": 3
      },
      "file_extension": ".py",
      "mimetype": "text/x-python",
      "name": "python",
      "nbconvert_exporter": "python",
      "pygments_lexer": "ipython3",
      "version": "3.9.13"
    },
    "orig_nbformat": 4,
    "vscode": {
      "interpreter": {
        "hash": "026b34853d01b5990fcb5d75369e4aa974272336ff9bda91cba466e1a7a05037"
      }
    },
    "colab": {
      "provenance": [],
      "include_colab_link": true
    }
  },
  "nbformat": 4,
  "nbformat_minor": 0
}