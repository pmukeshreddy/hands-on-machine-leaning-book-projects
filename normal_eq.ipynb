{
  "cells": [
    {
      "cell_type": "markdown",
      "metadata": {
        "id": "view-in-github",
        "colab_type": "text"
      },
      "source": [
        "<a href=\"https://colab.research.google.com/github/pmukeshreddy/hands-on-machine-leaning-book-projects/blob/main/normal_eq.ipynb\" target=\"_parent\"><img src=\"https://colab.research.google.com/assets/colab-badge.svg\" alt=\"Open In Colab\"/></a>"
      ]
    },
    {
      "cell_type": "code",
      "execution_count": null,
      "metadata": {
        "id": "H12mc67Bqqnk"
      },
      "outputs": [],
      "source": [
        "import numpy as n\n",
        "x = 2*n.random.rand(100,1)\n",
        "y = 4 + 3*x + n.random.randn(100,1)\n"
      ]
    },
    {
      "cell_type": "code",
      "execution_count": null,
      "metadata": {
        "id": "EX3EVXqYqqnn",
        "outputId": "c88f18e8-056c-47bf-8f3b-5e3371d8fc85"
      },
      "outputs": [
        {
          "data": {
            "text/plain": [
              "array([[3.85192331],\n",
              "       [3.11272558]])"
            ]
          },
          "execution_count": 2,
          "metadata": {},
          "output_type": "execute_result"
        }
      ],
      "source": [
        "x_b = n.c_[n.ones((100,1)),x]\n",
        "theta_beta = n.linalg.inv(x_b.T.dot(x_b)).dot(x_b.T).dot(y)\n",
        "theta_beta\n"
      ]
    },
    {
      "cell_type": "code",
      "execution_count": null,
      "metadata": {
        "id": "CXG0ONFNqqnp",
        "outputId": "4c3c27e7-4ee7-4785-da88-dc15bf0f8850"
      },
      "outputs": [
        {
          "data": {
            "text/plain": [
              "array([[3.85192331],\n",
              "       [6.96464889]])"
            ]
          },
          "execution_count": 3,
          "metadata": {},
          "output_type": "execute_result"
        }
      ],
      "source": [
        "x_new=n.array([[0],[1]])\n",
        "x_new_b=n.c_[n.ones((2,1)),x_new]\n",
        "x_new_b\n",
        "y_pre=x_new_b.dot(theta_beta)\n",
        "y_pre"
      ]
    },
    {
      "cell_type": "code",
      "execution_count": null,
      "metadata": {
        "id": "C1GCaVCNqqnp",
        "outputId": "eedd731d-6de9-408c-d7eb-58a68813a3cd"
      },
      "outputs": [
        {
          "name": "stderr",
          "output_type": "stream",
          "text": [
            "No artists with labels found to put in legend.  Note that artists whose label start with an underscore are ignored when legend() is called with no argument.\n"
          ]
        },
        {
          "data": {
            "text/plain": [
              "<matplotlib.legend.Legend at 0x1f080277a60>"
            ]
          },
          "execution_count": 4,
          "metadata": {},
          "output_type": "execute_result"
        },
        {
          "data": {
            "image/png": "[encoded data removed]",
            "text/plain": [
              "<Figure size 432x288 with 1 Axes>"
            ]
          },
          "metadata": {
            "needs_background": "light"
          },
          "output_type": "display_data"
        }
      ],
      "source": [
        "import matplotlib.pyplot as plt\n",
        "plt.plot(x_new,y_pre,\"r-\")\n",
        "plt.plot(x,y,\"b.\")\n",
        "plt.axis([0,2,0,15])\n",
        "plt.xlabel(\"x\")\n",
        "plt.ylabel(\"y\")\n",
        "plt.legend()"
      ]
    },
    {
      "cell_type": "code",
      "execution_count": null,
      "metadata": {
        "id": "x-PIdtluqqnq",
        "outputId": "badacff6-9801-4194-dd31-fc9db7017602"
      },
      "outputs": [
        {
          "name": "stdout",
          "output_type": "stream",
          "text": [
            "[3.85192331]\n",
            "[[3.11272558]]\n"
          ]
        },
        {
          "data": {
            "text/plain": [
              "array([[3.85192331],\n",
              "       [6.96464889]])"
            ]
          },
          "execution_count": 5,
          "metadata": {},
          "output_type": "execute_result"
        }
      ],
      "source": [
        "from sklearn.linear_model import LinearRegression\n",
        "lin_reg = LinearRegression()\n",
        "lin_reg.fit(x,y)\n",
        "print(lin_reg.intercept_)\n",
        "print(lin_reg.coef_)\n",
        "lin_reg.predict(x_new)"
      ]
    },
    {
      "cell_type": "code",
      "execution_count": null,
      "metadata": {
        "id": "nnGsmBiAqqnq",
        "outputId": "54d5d7e2-2fd1-4da4-e18d-4dee806fca77"
      },
      "outputs": [
        {
          "data": {
            "text/plain": [
              "array([[3.85192331],\n",
              "       [3.11272558]])"
            ]
          },
          "execution_count": 6,
          "metadata": {},
          "output_type": "execute_result"
        }
      ],
      "source": [
        "theta_beta_svd,residuals,rank,s = n.linalg.lstsq(x_b,y,rcond=1e-6)\n",
        "theta_beta_svd"
      ]
    },
    {
      "cell_type": "code",
      "execution_count": null,
      "metadata": {
        "id": "_k2iSJIBqqnr",
        "outputId": "ff6f11ac-6287-40d5-b4d3-08c09f9439ea"
      },
      "outputs": [
        {
          "data": {
            "text/plain": [
              "array([[3.85192331],\n",
              "       [3.11272558]])"
            ]
          },
          "execution_count": 7,
          "metadata": {},
          "output_type": "execute_result"
        }
      ],
      "source": [
        "n.linalg.pinv(x_b).dot(y)"
      ]
    },
    {
      "cell_type": "code",
      "execution_count": null,
      "metadata": {
        "id": "5VOmwjcDqqnr",
        "outputId": "83e83cbe-279e-448c-decd-17298b5450cc"
      },
      "outputs": [
        {
          "data": {
            "text/plain": [
              "(array([[ 8.11326997e-03, -4.46831123e-02, -1.14507580e-01, ...,\n",
              "         -5.15077319e-02, -1.68392546e-02, -1.21093713e-01],\n",
              "        [ 4.46831123e-02,  9.98019488e-01, -5.07537716e-03, ...,\n",
              "         -2.28300315e-03, -7.46374765e-04, -5.36729766e-03],\n",
              "        [ 1.14507580e-01, -5.07537716e-03,  9.86993539e-01, ...,\n",
              "         -5.85055858e-03, -1.91270401e-03, -1.37545537e-02],\n",
              "        ...,\n",
              "        [ 5.15077319e-02, -2.28300315e-03, -5.85055858e-03, ...,\n",
              "          9.97368305e-01, -8.60371386e-04, -6.18706520e-03],\n",
              "        [ 1.68392546e-02, -7.46374765e-04, -1.91270401e-03, ...,\n",
              "         -8.60371386e-04,  9.99718722e-01, -2.02271702e-03],\n",
              "        [ 1.21093713e-01, -5.36729766e-03, -1.37545537e-02, ...,\n",
              "         -6.18706520e-03, -2.02271702e-03,  9.85454326e-01]]),\n",
              " array([11.88897618]),\n",
              " array([[1.]]))"
            ]
          },
          "execution_count": 8,
          "metadata": {},
          "output_type": "execute_result"
        }
      ],
      "source": [
        "n.linalg.svd(x)"
      ]
    },
    {
      "cell_type": "code",
      "execution_count": null,
      "metadata": {
        "id": "3pCYT1oJqqnr",
        "outputId": "c69764f8-edae-4dc6-ba41-a048cc52ee1b"
      },
      "outputs": [
        {
          "data": {
            "text/plain": [
              "array([[3.85192331],\n",
              "       [3.11272558]])"
            ]
          },
          "execution_count": 21,
          "metadata": {},
          "output_type": "execute_result"
        }
      ],
      "source": [
        "eta = 0.1\n",
        "nof_itterations = 1000\n",
        "m = 100\n",
        "theta = n.random.randn(2, 1)\n",
        "for itteration in range(nof_itterations):\n",
        "    gradient = 2/m*x_b.T.dot(x_b.dot(theta)-y)\n",
        "    theta = theta-eta*gradient\n",
        "theta\n"
      ]
    },
    {
      "cell_type": "code",
      "execution_count": null,
      "metadata": {
        "id": "1afucgblqqns",
        "outputId": "3a8cf72f-1b1d-46fd-a899-78ce989da1b1"
      },
      "outputs": [
        {
          "data": {
            "text/plain": [
              "array([[ 7.08259557],\n",
              "       [-0.19962315]])"
            ]
          },
          "execution_count": 47,
          "metadata": {},
          "output_type": "execute_result"
        }
      ],
      "source": [
        "n_epochs=70\n",
        "t0,t1=5,50\n",
        "def learning_schedule(t):\n",
        "    return t0/(t+t1)\n",
        "theta_sgd=n.random.randn(2,1)\n",
        "for epochs in range(n_epochs):\n",
        "    for i in range(m):\n",
        "        random_index=n.random.randint(m)\n",
        "        xi=x_b[random_index:random_index+1]\n",
        "        yi=y[random_index:random_index+1]\n",
        "        gradient_sgd=2*xi.T.dot(xi.dot(theta_sgd)-yi)\n",
        "        eta=learning_schedule(m*epochs+i)\n",
        "        theta_sgd=theta_sgd-eta*gradient_sgd"
      ]
    },
    {
      "cell_type": "code",
      "execution_count": null,
      "metadata": {
        "id": "7v4H6nE2qqns",
        "outputId": "98bc270e-87f6-474f-9408-a011c0ffd217"
      },
      "outputs": [
        {
          "data": {
            "text/plain": [
              "array([4.0076196])"
            ]
          },
          "execution_count": 62,
          "metadata": {},
          "output_type": "execute_result"
        }
      ],
      "source": [
        "from sklearn.linear_model import SGDRegressor\n",
        "sdg=SGDRegressor(max_iter=1000,tol=1e-3,penalty=None,eta0=0.1)\n",
        "sdg.fit(x,y.ravel())\n",
        "sdg.intercept_"
      ]
    },
    {
      "cell_type": "code",
      "execution_count": null,
      "metadata": {
        "id": "v4uIj9g3qqns",
        "outputId": "54d6298c-8fc5-4183-d2bf-231377874593"
      },
      "outputs": [
        {
          "data": {
            "text/plain": [
              "array([3.14191696])"
            ]
          },
          "execution_count": 63,
          "metadata": {},
          "output_type": "execute_result"
        }
      ],
      "source": [
        "sdg.coef_"
      ]
    }
  ],
  "metadata": {
    "kernelspec": {
      "display_name": "Python 3.9.13 64-bit (windows store)",
      "language": "python",
      "name": "python3"
    },
    "language_info": {
      "codemirror_mode": {
        "name": "ipython",
        "version": 3
      },
      "file_extension": ".py",
      "mimetype": "text/x-python",
      "name": "python",
      "nbconvert_exporter": "python",
      "pygments_lexer": "ipython3",
      "version": "3.9.13"
    },
    "orig_nbformat": 4,
    "vscode": {
      "interpreter": {
        "hash": "026b34853d01b5990fcb5d75369e4aa974272336ff9bda91cba466e1a7a05037"
      }
    },
    "colab": {
      "provenance": [],
      "include_colab_link": true
    }
  },
  "nbformat": 4,
  "nbformat_minor": 0
}